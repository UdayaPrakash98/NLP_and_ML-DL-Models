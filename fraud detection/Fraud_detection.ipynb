{
 "cells": [
  {
   "cell_type": "code",
   "execution_count": 43,
   "id": "5236d286",
   "metadata": {},
   "outputs": [],
   "source": [
    "import pandas as pd\n",
    "from sklearn.model_selection import train_test_split\n",
    "from sklearn.linear_model import LogisticRegression\n",
    "from sklearn.metrics import accuracy_score, confusion_matrix,roc_curve\n",
    "import matplotlib.pyplot as plt\n",
    "import seaborn as sns\n",
    "import numpy as np"
   ]
  },
  {
   "cell_type": "code",
   "execution_count": 2,
   "id": "acdf78db",
   "metadata": {},
   "outputs": [],
   "source": [
    "try:\n",
    "    import os\n",
    "    os.chdir(\"E:\\projects\")\n",
    "    p=pd.read_csv('fraud_detection.csv')\n",
    "except Exception as e:\n",
    "    print(e)"
   ]
  },
  {
   "cell_type": "code",
   "execution_count": 3,
   "id": "87f1cb62",
   "metadata": {},
   "outputs": [],
   "source": [
    "p.drop(p.iloc[:,:1],axis=1,inplace=True)"
   ]
  },
  {
   "cell_type": "code",
   "execution_count": 4,
   "id": "0d447369",
   "metadata": {},
   "outputs": [
    {
     "data": {
      "text/html": [
       "<div>\n",
       "<style scoped>\n",
       "    .dataframe tbody tr th:only-of-type {\n",
       "        vertical-align: middle;\n",
       "    }\n",
       "\n",
       "    .dataframe tbody tr th {\n",
       "        vertical-align: top;\n",
       "    }\n",
       "\n",
       "    .dataframe thead th {\n",
       "        text-align: right;\n",
       "    }\n",
       "</style>\n",
       "<table border=\"1\" class=\"dataframe\">\n",
       "  <thead>\n",
       "    <tr style=\"text-align: right;\">\n",
       "      <th></th>\n",
       "      <th>accountAgeDays</th>\n",
       "      <th>numItems</th>\n",
       "      <th>localTime</th>\n",
       "      <th>paymentMethod</th>\n",
       "      <th>paymentMethodAgeDays</th>\n",
       "      <th>label</th>\n",
       "    </tr>\n",
       "  </thead>\n",
       "  <tbody>\n",
       "    <tr>\n",
       "      <th>11933</th>\n",
       "      <td>34</td>\n",
       "      <td>1</td>\n",
       "      <td>4.965339</td>\n",
       "      <td>paypal</td>\n",
       "      <td>0.000694</td>\n",
       "      <td>0</td>\n",
       "    </tr>\n",
       "    <tr>\n",
       "      <th>24539</th>\n",
       "      <td>2000</td>\n",
       "      <td>1</td>\n",
       "      <td>4.745402</td>\n",
       "      <td>paypal</td>\n",
       "      <td>0.000000</td>\n",
       "      <td>0</td>\n",
       "    </tr>\n",
       "    <tr>\n",
       "      <th>37563</th>\n",
       "      <td>1280</td>\n",
       "      <td>1</td>\n",
       "      <td>4.921349</td>\n",
       "      <td>creditcard</td>\n",
       "      <td>0.004861</td>\n",
       "      <td>0</td>\n",
       "    </tr>\n",
       "    <tr>\n",
       "      <th>35348</th>\n",
       "      <td>1610</td>\n",
       "      <td>1</td>\n",
       "      <td>2.948940</td>\n",
       "      <td>creditcard</td>\n",
       "      <td>155.798611</td>\n",
       "      <td>0</td>\n",
       "    </tr>\n",
       "    <tr>\n",
       "      <th>16427</th>\n",
       "      <td>3</td>\n",
       "      <td>1</td>\n",
       "      <td>5.040929</td>\n",
       "      <td>creditcard</td>\n",
       "      <td>2.943056</td>\n",
       "      <td>0</td>\n",
       "    </tr>\n",
       "    <tr>\n",
       "      <th>7351</th>\n",
       "      <td>376</td>\n",
       "      <td>1</td>\n",
       "      <td>4.742303</td>\n",
       "      <td>creditcard</td>\n",
       "      <td>0.000000</td>\n",
       "      <td>0</td>\n",
       "    </tr>\n",
       "    <tr>\n",
       "      <th>26747</th>\n",
       "      <td>827</td>\n",
       "      <td>1</td>\n",
       "      <td>4.836982</td>\n",
       "      <td>creditcard</td>\n",
       "      <td>0.000000</td>\n",
       "      <td>0</td>\n",
       "    </tr>\n",
       "    <tr>\n",
       "      <th>36297</th>\n",
       "      <td>2000</td>\n",
       "      <td>1</td>\n",
       "      <td>4.505662</td>\n",
       "      <td>creditcard</td>\n",
       "      <td>335.915278</td>\n",
       "      <td>0</td>\n",
       "    </tr>\n",
       "    <tr>\n",
       "      <th>1988</th>\n",
       "      <td>1</td>\n",
       "      <td>1</td>\n",
       "      <td>4.461622</td>\n",
       "      <td>creditcard</td>\n",
       "      <td>0.000000</td>\n",
       "      <td>1</td>\n",
       "    </tr>\n",
       "    <tr>\n",
       "      <th>6401</th>\n",
       "      <td>151</td>\n",
       "      <td>2</td>\n",
       "      <td>4.886641</td>\n",
       "      <td>creditcard</td>\n",
       "      <td>0.000000</td>\n",
       "      <td>0</td>\n",
       "    </tr>\n",
       "    <tr>\n",
       "      <th>703</th>\n",
       "      <td>14</td>\n",
       "      <td>1</td>\n",
       "      <td>5.017904</td>\n",
       "      <td>storecredit</td>\n",
       "      <td>0.000000</td>\n",
       "      <td>0</td>\n",
       "    </tr>\n",
       "    <tr>\n",
       "      <th>37215</th>\n",
       "      <td>54</td>\n",
       "      <td>1</td>\n",
       "      <td>4.505662</td>\n",
       "      <td>creditcard</td>\n",
       "      <td>0.000694</td>\n",
       "      <td>0</td>\n",
       "    </tr>\n",
       "    <tr>\n",
       "      <th>3515</th>\n",
       "      <td>2000</td>\n",
       "      <td>4</td>\n",
       "      <td>3.483951</td>\n",
       "      <td>creditcard</td>\n",
       "      <td>272.491667</td>\n",
       "      <td>0</td>\n",
       "    </tr>\n",
       "    <tr>\n",
       "      <th>26068</th>\n",
       "      <td>182</td>\n",
       "      <td>1</td>\n",
       "      <td>4.524580</td>\n",
       "      <td>creditcard</td>\n",
       "      <td>0.000000</td>\n",
       "      <td>0</td>\n",
       "    </tr>\n",
       "    <tr>\n",
       "      <th>27740</th>\n",
       "      <td>15</td>\n",
       "      <td>1</td>\n",
       "      <td>4.057414</td>\n",
       "      <td>creditcard</td>\n",
       "      <td>0.000000</td>\n",
       "      <td>0</td>\n",
       "    </tr>\n",
       "    <tr>\n",
       "      <th>24911</th>\n",
       "      <td>2000</td>\n",
       "      <td>1</td>\n",
       "      <td>4.748314</td>\n",
       "      <td>creditcard</td>\n",
       "      <td>0.000000</td>\n",
       "      <td>0</td>\n",
       "    </tr>\n",
       "    <tr>\n",
       "      <th>37831</th>\n",
       "      <td>2000</td>\n",
       "      <td>1</td>\n",
       "      <td>4.524580</td>\n",
       "      <td>creditcard</td>\n",
       "      <td>234.977778</td>\n",
       "      <td>0</td>\n",
       "    </tr>\n",
       "    <tr>\n",
       "      <th>6246</th>\n",
       "      <td>1619</td>\n",
       "      <td>1</td>\n",
       "      <td>5.034622</td>\n",
       "      <td>creditcard</td>\n",
       "      <td>0.050000</td>\n",
       "      <td>0</td>\n",
       "    </tr>\n",
       "    <tr>\n",
       "      <th>16341</th>\n",
       "      <td>2000</td>\n",
       "      <td>1</td>\n",
       "      <td>4.748314</td>\n",
       "      <td>creditcard</td>\n",
       "      <td>169.828472</td>\n",
       "      <td>0</td>\n",
       "    </tr>\n",
       "    <tr>\n",
       "      <th>12579</th>\n",
       "      <td>1928</td>\n",
       "      <td>1</td>\n",
       "      <td>4.057414</td>\n",
       "      <td>creditcard</td>\n",
       "      <td>1.865972</td>\n",
       "      <td>0</td>\n",
       "    </tr>\n",
       "  </tbody>\n",
       "</table>\n",
       "</div>"
      ],
      "text/plain": [
       "       accountAgeDays  numItems  localTime paymentMethod  \\\n",
       "11933              34         1   4.965339        paypal   \n",
       "24539            2000         1   4.745402        paypal   \n",
       "37563            1280         1   4.921349    creditcard   \n",
       "35348            1610         1   2.948940    creditcard   \n",
       "16427               3         1   5.040929    creditcard   \n",
       "7351              376         1   4.742303    creditcard   \n",
       "26747             827         1   4.836982    creditcard   \n",
       "36297            2000         1   4.505662    creditcard   \n",
       "1988                1         1   4.461622    creditcard   \n",
       "6401              151         2   4.886641    creditcard   \n",
       "703                14         1   5.017904   storecredit   \n",
       "37215              54         1   4.505662    creditcard   \n",
       "3515             2000         4   3.483951    creditcard   \n",
       "26068             182         1   4.524580    creditcard   \n",
       "27740              15         1   4.057414    creditcard   \n",
       "24911            2000         1   4.748314    creditcard   \n",
       "37831            2000         1   4.524580    creditcard   \n",
       "6246             1619         1   5.034622    creditcard   \n",
       "16341            2000         1   4.748314    creditcard   \n",
       "12579            1928         1   4.057414    creditcard   \n",
       "\n",
       "       paymentMethodAgeDays  label  \n",
       "11933              0.000694      0  \n",
       "24539              0.000000      0  \n",
       "37563              0.004861      0  \n",
       "35348            155.798611      0  \n",
       "16427              2.943056      0  \n",
       "7351               0.000000      0  \n",
       "26747              0.000000      0  \n",
       "36297            335.915278      0  \n",
       "1988               0.000000      1  \n",
       "6401               0.000000      0  \n",
       "703                0.000000      0  \n",
       "37215              0.000694      0  \n",
       "3515             272.491667      0  \n",
       "26068              0.000000      0  \n",
       "27740              0.000000      0  \n",
       "24911              0.000000      0  \n",
       "37831            234.977778      0  \n",
       "6246               0.050000      0  \n",
       "16341            169.828472      0  \n",
       "12579              1.865972      0  "
      ]
     },
     "execution_count": 4,
     "metadata": {},
     "output_type": "execute_result"
    }
   ],
   "source": [
    "p.sample(20)"
   ]
  },
  {
   "cell_type": "code",
   "execution_count": 5,
   "id": "28819bef",
   "metadata": {},
   "outputs": [
    {
     "data": {
      "text/plain": [
       "5726"
      ]
     },
     "execution_count": 5,
     "metadata": {},
     "output_type": "execute_result"
    }
   ],
   "source": [
    "p.duplicated().sum()"
   ]
  },
  {
   "cell_type": "code",
   "execution_count": 6,
   "id": "f391a48d",
   "metadata": {},
   "outputs": [],
   "source": [
    "p.drop_duplicates(inplace=True)"
   ]
  },
  {
   "cell_type": "code",
   "execution_count": 7,
   "id": "5c8ddaf3",
   "metadata": {},
   "outputs": [
    {
     "data": {
      "text/plain": [
       "0"
      ]
     },
     "execution_count": 7,
     "metadata": {},
     "output_type": "execute_result"
    }
   ],
   "source": [
    "p.duplicated().sum()"
   ]
  },
  {
   "cell_type": "code",
   "execution_count": 8,
   "id": "3190b2aa",
   "metadata": {},
   "outputs": [
    {
     "data": {
      "text/html": [
       "<div>\n",
       "<style scoped>\n",
       "    .dataframe tbody tr th:only-of-type {\n",
       "        vertical-align: middle;\n",
       "    }\n",
       "\n",
       "    .dataframe tbody tr th {\n",
       "        vertical-align: top;\n",
       "    }\n",
       "\n",
       "    .dataframe thead th {\n",
       "        text-align: right;\n",
       "    }\n",
       "</style>\n",
       "<table border=\"1\" class=\"dataframe\">\n",
       "  <thead>\n",
       "    <tr style=\"text-align: right;\">\n",
       "      <th></th>\n",
       "      <th>accountAgeDays</th>\n",
       "      <th>numItems</th>\n",
       "      <th>localTime</th>\n",
       "      <th>paymentMethodAgeDays</th>\n",
       "      <th>label</th>\n",
       "    </tr>\n",
       "  </thead>\n",
       "  <tbody>\n",
       "    <tr>\n",
       "      <th>count</th>\n",
       "      <td>33495.000000</td>\n",
       "      <td>33495.000000</td>\n",
       "      <td>33495.000000</td>\n",
       "      <td>33495.000000</td>\n",
       "      <td>33495.000000</td>\n",
       "    </tr>\n",
       "    <tr>\n",
       "      <th>mean</th>\n",
       "      <td>827.790775</td>\n",
       "      <td>1.097149</td>\n",
       "      <td>4.736297</td>\n",
       "      <td>143.109976</td>\n",
       "      <td>0.008777</td>\n",
       "    </tr>\n",
       "    <tr>\n",
       "      <th>std</th>\n",
       "      <td>771.376913</td>\n",
       "      <td>0.610850</td>\n",
       "      <td>0.403262</td>\n",
       "      <td>301.279953</td>\n",
       "      <td>0.093277</td>\n",
       "    </tr>\n",
       "    <tr>\n",
       "      <th>min</th>\n",
       "      <td>1.000000</td>\n",
       "      <td>1.000000</td>\n",
       "      <td>0.421214</td>\n",
       "      <td>0.000000</td>\n",
       "      <td>0.000000</td>\n",
       "    </tr>\n",
       "    <tr>\n",
       "      <th>25%</th>\n",
       "      <td>89.000000</td>\n",
       "      <td>1.000000</td>\n",
       "      <td>4.742303</td>\n",
       "      <td>0.000000</td>\n",
       "      <td>0.000000</td>\n",
       "    </tr>\n",
       "    <tr>\n",
       "      <th>50%</th>\n",
       "      <td>591.000000</td>\n",
       "      <td>1.000000</td>\n",
       "      <td>4.886641</td>\n",
       "      <td>1.107639</td>\n",
       "      <td>0.000000</td>\n",
       "    </tr>\n",
       "    <tr>\n",
       "      <th>75%</th>\n",
       "      <td>1634.000000</td>\n",
       "      <td>1.000000</td>\n",
       "      <td>4.962055</td>\n",
       "      <td>129.006250</td>\n",
       "      <td>0.000000</td>\n",
       "    </tr>\n",
       "    <tr>\n",
       "      <th>max</th>\n",
       "      <td>2000.000000</td>\n",
       "      <td>29.000000</td>\n",
       "      <td>5.040929</td>\n",
       "      <td>1999.580556</td>\n",
       "      <td>1.000000</td>\n",
       "    </tr>\n",
       "  </tbody>\n",
       "</table>\n",
       "</div>"
      ],
      "text/plain": [
       "       accountAgeDays      numItems     localTime  paymentMethodAgeDays  \\\n",
       "count    33495.000000  33495.000000  33495.000000          33495.000000   \n",
       "mean       827.790775      1.097149      4.736297            143.109976   \n",
       "std        771.376913      0.610850      0.403262            301.279953   \n",
       "min          1.000000      1.000000      0.421214              0.000000   \n",
       "25%         89.000000      1.000000      4.742303              0.000000   \n",
       "50%        591.000000      1.000000      4.886641              1.107639   \n",
       "75%       1634.000000      1.000000      4.962055            129.006250   \n",
       "max       2000.000000     29.000000      5.040929           1999.580556   \n",
       "\n",
       "              label  \n",
       "count  33495.000000  \n",
       "mean       0.008777  \n",
       "std        0.093277  \n",
       "min        0.000000  \n",
       "25%        0.000000  \n",
       "50%        0.000000  \n",
       "75%        0.000000  \n",
       "max        1.000000  "
      ]
     },
     "execution_count": 8,
     "metadata": {},
     "output_type": "execute_result"
    }
   ],
   "source": [
    "p.describe()"
   ]
  },
  {
   "cell_type": "code",
   "execution_count": 9,
   "id": "e6296cff",
   "metadata": {},
   "outputs": [
    {
     "name": "stdout",
     "output_type": "stream",
     "text": [
      "<class 'pandas.core.frame.DataFrame'>\n",
      "Int64Index: 33495 entries, 0 to 39220\n",
      "Data columns (total 6 columns):\n",
      " #   Column                Non-Null Count  Dtype  \n",
      "---  ------                --------------  -----  \n",
      " 0   accountAgeDays        33495 non-null  int64  \n",
      " 1   numItems              33495 non-null  int64  \n",
      " 2   localTime             33495 non-null  float64\n",
      " 3   paymentMethod         33495 non-null  object \n",
      " 4   paymentMethodAgeDays  33495 non-null  float64\n",
      " 5   label                 33495 non-null  int64  \n",
      "dtypes: float64(2), int64(3), object(1)\n",
      "memory usage: 1.8+ MB\n"
     ]
    }
   ],
   "source": [
    "p.info()"
   ]
  },
  {
   "cell_type": "code",
   "execution_count": 10,
   "id": "3f176ac1",
   "metadata": {},
   "outputs": [
    {
     "name": "stderr",
     "output_type": "stream",
     "text": [
      "c:\\users\\welcome\\appdata\\local\\programs\\python\\python39\\lib\\site-packages\\seaborn\\_decorators.py:36: FutureWarning: Pass the following variable as a keyword arg: x. From version 0.12, the only valid positional argument will be `data`, and passing other arguments without an explicit keyword will result in an error or misinterpretation.\n",
      "  warnings.warn(\n"
     ]
    },
    {
     "data": {
      "text/plain": [
       "<AxesSubplot:xlabel='paymentMethod', ylabel='count'>"
      ]
     },
     "execution_count": 10,
     "metadata": {},
     "output_type": "execute_result"
    },
    {
     "data": {
      "image/png": "[encoded data removed]",
      "text/plain": [
       "<Figure size 432x288 with 1 Axes>"
      ]
     },
     "metadata": {
      "needs_background": "light"
     },
     "output_type": "display_data"
    }
   ],
   "source": [
    "sns.countplot(p.paymentMethod)"
   ]
  },
  {
   "cell_type": "code",
   "execution_count": 11,
   "id": "6487b19c",
   "metadata": {},
   "outputs": [
    {
     "name": "stderr",
     "output_type": "stream",
     "text": [
      "c:\\users\\welcome\\appdata\\local\\programs\\python\\python39\\lib\\site-packages\\seaborn\\_decorators.py:36: FutureWarning: Pass the following variable as a keyword arg: x. From version 0.12, the only valid positional argument will be `data`, and passing other arguments without an explicit keyword will result in an error or misinterpretation.\n",
      "  warnings.warn(\n"
     ]
    },
    {
     "data": {
      "text/plain": [
       "<AxesSubplot:xlabel='numItems', ylabel='count'>"
      ]
     },
     "execution_count": 11,
     "metadata": {},
     "output_type": "execute_result"
    },
    {
     "data": {
      "image/png": "[encoded data removed]",
      "text/plain": [
       "<Figure size 432x288 with 1 Axes>"
      ]
     },
     "metadata": {
      "needs_background": "light"
     },
     "output_type": "display_data"
    }
   ],
   "source": [
    "sns.countplot(p.numItems)"
   ]
  },
  {
   "cell_type": "code",
   "execution_count": 12,
   "id": "69661542",
   "metadata": {},
   "outputs": [
    {
     "data": {
      "text/plain": [
       "<seaborn.axisgrid.FacetGrid at 0x1ce76cb45e0>"
      ]
     },
     "execution_count": 12,
     "metadata": {},
     "output_type": "execute_result"
    },
    {
     "data": {
      "image/png": "[encoded data removed]",
      "text/plain": [
       "<Figure size 360x360 with 1 Axes>"
      ]
     },
     "metadata": {
      "needs_background": "light"
     },
     "output_type": "display_data"
    }
   ],
   "source": [
    "sns.displot(p.accountAgeDays)"
   ]
  },
  {
   "cell_type": "code",
   "execution_count": 13,
   "id": "8d7cb953",
   "metadata": {},
   "outputs": [
    {
     "data": {
      "text/plain": [
       "0        0\n",
       "1        0\n",
       "2        1\n",
       "3        1\n",
       "4        1\n",
       "        ..\n",
       "39215    1\n",
       "39217    1\n",
       "39218    1\n",
       "39219    1\n",
       "39220    0\n",
       "Name: paymentMethod, Length: 33495, dtype: uint8"
      ]
     },
     "execution_count": 13,
     "metadata": {},
     "output_type": "execute_result"
    }
   ],
   "source": [
    "#catagorical into numerical\n",
    "p['paymentMethod']=pd.get_dummies(p['paymentMethod'])\n",
    "p['paymentMethod']"
   ]
  },
  {
   "cell_type": "code",
   "execution_count": 14,
   "id": "4ff86116",
   "metadata": {},
   "outputs": [],
   "source": [
    "X_train, X_test, y_train, y_test = train_test_split(\n",
    "    p.drop('label', axis=1), p['label'],\n",
    "    test_size=0.23, random_state=42)"
   ]
  },
  {
   "cell_type": "code",
   "execution_count": 15,
   "id": "a1300783",
   "metadata": {},
   "outputs": [
    {
     "name": "stdout",
     "output_type": "stream",
     "text": [
      "accuracy 100.0\n"
     ]
    }
   ],
   "source": [
    "clf = LogisticRegression().fit(X_train, y_train)\n",
    "\n",
    "# Make predictions on test set\n",
    "y_pred = clf.predict(X_test)\n",
    "from sklearn.metrics import accuracy_score\n",
    "print('accuracy',accuracy_score(y_pred, y_test)*100)"
   ]
  },
  {
   "cell_type": "code",
   "execution_count": 16,
   "id": "7bc3ba6c",
   "metadata": {},
   "outputs": [
    {
     "name": "stdout",
     "output_type": "stream",
     "text": [
      "[[7639    0]\n",
      " [   0   65]]\n"
     ]
    }
   ],
   "source": [
    "# Compare test set predictions with ground truth labels\n",
    "print(confusion_matrix(y_test, y_pred))"
   ]
  },
  {
   "cell_type": "code",
   "execution_count": 46,
   "id": "0737f1d8",
   "metadata": {},
   "outputs": [],
   "source": [
    "fpr,tpr,thresholds=roc_curve(y_test, y_pred)"
   ]
  },
  {
   "cell_type": "code",
   "execution_count": 52,
   "id": "99616774",
   "metadata": {},
   "outputs": [
    {
     "data": {
      "image/png": "[encoded data removed]",
      "text/plain": [
       "<Figure size 432x288 with 1 Axes>"
      ]
     },
     "metadata": {
      "needs_background": "light"
     },
     "output_type": "display_data"
    }
   ],
   "source": [
    "plt.plot([0, 1], [0,1] ,linestyle='--')\n",
    "# plot the roc curve for the model\n",
    "plt.plot(fpr, tpr)\n",
    "# show the plot\n",
    "plt.show()\n",
    "plt.show()\n"
   ]
  },
  {
   "cell_type": "code",
   "execution_count": 53,
   "id": "c3873a49",
   "metadata": {},
   "outputs": [
    {
     "data": {
      "text/plain": [
       "1.0"
      ]
     },
     "execution_count": 53,
     "metadata": {},
     "output_type": "execute_result"
    }
   ],
   "source": [
    "roc_auc_score(y_test, y_pred)"
   ]
  },
  {
   "cell_type": "code",
   "execution_count": null,
   "id": "1d7ec0f8",
   "metadata": {},
   "outputs": [],
   "source": []
  }
 ],
 "metadata": {
  "kernelspec": {
   "display_name": "Python 3",
   "language": "python",
   "name": "python3"
  },
  "language_info": {
   "codemirror_mode": {
    "name": "ipython",
    "version": 3
   },
   "file_extension": ".py",
   "mimetype": "text/x-python",
   "name": "python",
   "nbconvert_exporter": "python",
   "pygments_lexer": "ipython3",
   "version": "3.9.5"
  }
 },
 "nbformat": 4,
 "nbformat_minor": 5
}
